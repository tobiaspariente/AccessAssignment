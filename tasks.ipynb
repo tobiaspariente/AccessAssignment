{
 "cells": [
  {
   "cell_type": "markdown",
   "metadata": {},
   "source": [
    "# 1- Task 1"
   ]
  },
  {
   "cell_type": "markdown",
   "metadata": {},
   "source": [
    "### 1.1- Understanding the Datasets provided"
   ]
  },
  {
   "cell_type": "code",
   "execution_count": 1,
   "metadata": {},
   "outputs": [],
   "source": [
    "import pandas as pd"
   ]
  },
  {
   "cell_type": "code",
   "execution_count": 2,
   "metadata": {},
   "outputs": [],
   "source": [
    "df_power = pd.read_csv(\"Actual_power_data.csv\")"
   ]
  },
  {
   "cell_type": "code",
   "execution_count": 3,
   "metadata": {},
   "outputs": [
    {
     "data": {
      "text/html": [
       "<div>\n",
       "<style scoped>\n",
       "    .dataframe tbody tr th:only-of-type {\n",
       "        vertical-align: middle;\n",
       "    }\n",
       "\n",
       "    .dataframe tbody tr th {\n",
       "        vertical-align: top;\n",
       "    }\n",
       "\n",
       "    .dataframe thead th {\n",
       "        text-align: right;\n",
       "    }\n",
       "</style>\n",
       "<table border=\"1\" class=\"dataframe\">\n",
       "  <thead>\n",
       "    <tr style=\"text-align: right;\">\n",
       "      <th></th>\n",
       "      <th>LocalTime</th>\n",
       "      <th>Power(MW)</th>\n",
       "    </tr>\n",
       "  </thead>\n",
       "  <tbody>\n",
       "    <tr>\n",
       "      <th>0</th>\n",
       "      <td>01/01/06 00:00</td>\n",
       "      <td>0.0</td>\n",
       "    </tr>\n",
       "    <tr>\n",
       "      <th>1</th>\n",
       "      <td>01/01/06 00:05</td>\n",
       "      <td>0.0</td>\n",
       "    </tr>\n",
       "    <tr>\n",
       "      <th>2</th>\n",
       "      <td>01/01/06 00:10</td>\n",
       "      <td>0.0</td>\n",
       "    </tr>\n",
       "    <tr>\n",
       "      <th>3</th>\n",
       "      <td>01/01/06 00:15</td>\n",
       "      <td>0.0</td>\n",
       "    </tr>\n",
       "    <tr>\n",
       "      <th>4</th>\n",
       "      <td>01/01/06 00:20</td>\n",
       "      <td>0.0</td>\n",
       "    </tr>\n",
       "  </tbody>\n",
       "</table>\n",
       "</div>"
      ],
      "text/plain": [
       "        LocalTime  Power(MW)\n",
       "0  01/01/06 00:00        0.0\n",
       "1  01/01/06 00:05        0.0\n",
       "2  01/01/06 00:10        0.0\n",
       "3  01/01/06 00:15        0.0\n",
       "4  01/01/06 00:20        0.0"
      ]
     },
     "execution_count": 3,
     "metadata": {},
     "output_type": "execute_result"
    }
   ],
   "source": [
    "df_power.head()"
   ]
  },
  {
   "cell_type": "code",
   "execution_count": 4,
   "metadata": {},
   "outputs": [
    {
     "data": {
      "text/plain": [
       "Index(['LocalTime', 'Power(MW)'], dtype='object')"
      ]
     },
     "execution_count": 4,
     "metadata": {},
     "output_type": "execute_result"
    }
   ],
   "source": [
    "df_power.columns"
   ]
  },
  {
   "cell_type": "code",
   "execution_count": 5,
   "metadata": {},
   "outputs": [
    {
     "data": {
      "text/plain": [
       "[98,\n",
       " 99,\n",
       " 100,\n",
       " 101,\n",
       " 102,\n",
       " 103,\n",
       " 104,\n",
       " 105,\n",
       " 106,\n",
       " 107,\n",
       " 108,\n",
       " 109,\n",
       " 110,\n",
       " 111,\n",
       " 112,\n",
       " 113,\n",
       " 114,\n",
       " 115,\n",
       " 116,\n",
       " 117,\n",
       " 118,\n",
       " 119,\n",
       " 120,\n",
       " 121,\n",
       " 122,\n",
       " 123,\n",
       " 124,\n",
       " 125,\n",
       " 126,\n",
       " 127,\n",
       " 128,\n",
       " 129,\n",
       " 130,\n",
       " 131,\n",
       " 132,\n",
       " 133,\n",
       " 134,\n",
       " 135,\n",
       " 136,\n",
       " 137,\n",
       " 138,\n",
       " 139,\n",
       " 140,\n",
       " 141,\n",
       " 142,\n",
       " 143,\n",
       " 144,\n",
       " 145,\n",
       " 146,\n",
       " 147,\n",
       " 148,\n",
       " 149,\n",
       " 150,\n",
       " 151,\n",
       " 152,\n",
       " 153,\n",
       " 154,\n",
       " 155,\n",
       " 156,\n",
       " 157,\n",
       " 158,\n",
       " 159,\n",
       " 160,\n",
       " 161,\n",
       " 162,\n",
       " 163,\n",
       " 164,\n",
       " 165,\n",
       " 166,\n",
       " 167,\n",
       " 168,\n",
       " 169,\n",
       " 170,\n",
       " 171,\n",
       " 172,\n",
       " 173,\n",
       " 174,\n",
       " 175,\n",
       " 176,\n",
       " 177,\n",
       " 178,\n",
       " 182,\n",
       " 183,\n",
       " 184,\n",
       " 185,\n",
       " 186,\n",
       " 187,\n",
       " 188,\n",
       " 189,\n",
       " 190,\n",
       " 191,\n",
       " 192,\n",
       " 193]"
      ]
     },
     "execution_count": 5,
     "metadata": {},
     "output_type": "execute_result"
    }
   ],
   "source": [
    "# Let's find when Power(MW) is different to 0 during the first day [01/01/06]\n",
    "\n",
    "non_zero_power_indices = df_power.loc[:287, 'Power(MW)'] != 0\n",
    "indices_non_zero_power = non_zero_power_indices[non_zero_power_indices].index.tolist()\n",
    "\n",
    "indices_non_zero_power"
   ]
  },
  {
   "cell_type": "code",
   "execution_count": 6,
   "metadata": {},
   "outputs": [
    {
     "data": {
      "text/html": [
       "<div>\n",
       "<style scoped>\n",
       "    .dataframe tbody tr th:only-of-type {\n",
       "        vertical-align: middle;\n",
       "    }\n",
       "\n",
       "    .dataframe tbody tr th {\n",
       "        vertical-align: top;\n",
       "    }\n",
       "\n",
       "    .dataframe thead th {\n",
       "        text-align: right;\n",
       "    }\n",
       "</style>\n",
       "<table border=\"1\" class=\"dataframe\">\n",
       "  <thead>\n",
       "    <tr style=\"text-align: right;\">\n",
       "      <th></th>\n",
       "      <th>LocalTime</th>\n",
       "      <th>Power(MW)</th>\n",
       "    </tr>\n",
       "  </thead>\n",
       "  <tbody>\n",
       "    <tr>\n",
       "      <th>97</th>\n",
       "      <td>01/01/06 08:05</td>\n",
       "      <td>0.0</td>\n",
       "    </tr>\n",
       "    <tr>\n",
       "      <th>98</th>\n",
       "      <td>01/01/06 08:10</td>\n",
       "      <td>0.1</td>\n",
       "    </tr>\n",
       "    <tr>\n",
       "      <th>99</th>\n",
       "      <td>01/01/06 08:15</td>\n",
       "      <td>0.5</td>\n",
       "    </tr>\n",
       "    <tr>\n",
       "      <th>100</th>\n",
       "      <td>01/01/06 08:20</td>\n",
       "      <td>1.3</td>\n",
       "    </tr>\n",
       "    <tr>\n",
       "      <th>101</th>\n",
       "      <td>01/01/06 08:25</td>\n",
       "      <td>2.3</td>\n",
       "    </tr>\n",
       "    <tr>\n",
       "      <th>...</th>\n",
       "      <td>...</td>\n",
       "      <td>...</td>\n",
       "    </tr>\n",
       "    <tr>\n",
       "      <th>190</th>\n",
       "      <td>01/01/06 15:50</td>\n",
       "      <td>2.1</td>\n",
       "    </tr>\n",
       "    <tr>\n",
       "      <th>191</th>\n",
       "      <td>01/01/06 15:55</td>\n",
       "      <td>1.3</td>\n",
       "    </tr>\n",
       "    <tr>\n",
       "      <th>192</th>\n",
       "      <td>01/01/06 16:00</td>\n",
       "      <td>0.6</td>\n",
       "    </tr>\n",
       "    <tr>\n",
       "      <th>193</th>\n",
       "      <td>01/01/06 16:05</td>\n",
       "      <td>0.2</td>\n",
       "    </tr>\n",
       "    <tr>\n",
       "      <th>194</th>\n",
       "      <td>01/01/06 16:10</td>\n",
       "      <td>0.0</td>\n",
       "    </tr>\n",
       "  </tbody>\n",
       "</table>\n",
       "<p>98 rows × 2 columns</p>\n",
       "</div>"
      ],
      "text/plain": [
       "          LocalTime  Power(MW)\n",
       "97   01/01/06 08:05        0.0\n",
       "98   01/01/06 08:10        0.1\n",
       "99   01/01/06 08:15        0.5\n",
       "100  01/01/06 08:20        1.3\n",
       "101  01/01/06 08:25        2.3\n",
       "..              ...        ...\n",
       "190  01/01/06 15:50        2.1\n",
       "191  01/01/06 15:55        1.3\n",
       "192  01/01/06 16:00        0.6\n",
       "193  01/01/06 16:05        0.2\n",
       "194  01/01/06 16:10        0.0\n",
       "\n",
       "[98 rows x 2 columns]"
      ]
     },
     "execution_count": 6,
     "metadata": {},
     "output_type": "execute_result"
    }
   ],
   "source": [
    "df_power.iloc[97:195]"
   ]
  },
  {
   "cell_type": "code",
   "execution_count": 7,
   "metadata": {},
   "outputs": [
    {
     "name": "stdout",
     "output_type": "stream",
     "text": [
      "<class 'pandas.core.frame.DataFrame'>\n",
      "RangeIndex: 105120 entries, 0 to 105119\n",
      "Data columns (total 2 columns):\n",
      " #   Column     Non-Null Count   Dtype  \n",
      "---  ------     --------------   -----  \n",
      " 0   LocalTime  105120 non-null  object \n",
      " 1   Power(MW)  105120 non-null  float64\n",
      "dtypes: float64(1), object(1)\n",
      "memory usage: 1.6+ MB\n"
     ]
    }
   ],
   "source": [
    "df_power.info()"
   ]
  },
  {
   "cell_type": "code",
   "execution_count": 8,
   "metadata": {},
   "outputs": [],
   "source": [
    "df_weather = pd.read_csv(\"Bronx_Weather_2006.csv\")"
   ]
  },
  {
   "cell_type": "code",
   "execution_count": 9,
   "metadata": {},
   "outputs": [
    {
     "data": {
      "text/html": [
       "<div>\n",
       "<style scoped>\n",
       "    .dataframe tbody tr th:only-of-type {\n",
       "        vertical-align: middle;\n",
       "    }\n",
       "\n",
       "    .dataframe tbody tr th {\n",
       "        vertical-align: top;\n",
       "    }\n",
       "\n",
       "    .dataframe thead th {\n",
       "        text-align: right;\n",
       "    }\n",
       "</style>\n",
       "<table border=\"1\" class=\"dataframe\">\n",
       "  <thead>\n",
       "    <tr style=\"text-align: right;\">\n",
       "      <th></th>\n",
       "      <th>Date</th>\n",
       "      <th>TempF</th>\n",
       "      <th>TempK</th>\n",
       "      <th>Humidity</th>\n",
       "      <th>HrsDaylight</th>\n",
       "    </tr>\n",
       "  </thead>\n",
       "  <tbody>\n",
       "    <tr>\n",
       "      <th>0</th>\n",
       "      <td>2006-01-01</td>\n",
       "      <td>37.7</td>\n",
       "      <td>276.316667</td>\n",
       "      <td>75.2</td>\n",
       "      <td>9.00</td>\n",
       "    </tr>\n",
       "    <tr>\n",
       "      <th>1</th>\n",
       "      <td>2006-01-02</td>\n",
       "      <td>42.2</td>\n",
       "      <td>278.816667</td>\n",
       "      <td>73.7</td>\n",
       "      <td>9.04</td>\n",
       "    </tr>\n",
       "    <tr>\n",
       "      <th>2</th>\n",
       "      <td>2006-01-03</td>\n",
       "      <td>37.9</td>\n",
       "      <td>276.427778</td>\n",
       "      <td>85.2</td>\n",
       "      <td>9.08</td>\n",
       "    </tr>\n",
       "    <tr>\n",
       "      <th>3</th>\n",
       "      <td>2006-01-04</td>\n",
       "      <td>34.3</td>\n",
       "      <td>274.427778</td>\n",
       "      <td>70.4</td>\n",
       "      <td>9.12</td>\n",
       "    </tr>\n",
       "    <tr>\n",
       "      <th>4</th>\n",
       "      <td>2006-01-05</td>\n",
       "      <td>42.5</td>\n",
       "      <td>278.983333</td>\n",
       "      <td>76.5</td>\n",
       "      <td>9.16</td>\n",
       "    </tr>\n",
       "  </tbody>\n",
       "</table>\n",
       "</div>"
      ],
      "text/plain": [
       "         Date  TempF       TempK  Humidity  HrsDaylight\n",
       "0  2006-01-01   37.7  276.316667      75.2         9.00\n",
       "1  2006-01-02   42.2  278.816667      73.7         9.04\n",
       "2  2006-01-03   37.9  276.427778      85.2         9.08\n",
       "3  2006-01-04   34.3  274.427778      70.4         9.12\n",
       "4  2006-01-05   42.5  278.983333      76.5         9.16"
      ]
     },
     "execution_count": 9,
     "metadata": {},
     "output_type": "execute_result"
    }
   ],
   "source": [
    "df_weather.head()"
   ]
  },
  {
   "cell_type": "code",
   "execution_count": 10,
   "metadata": {},
   "outputs": [
    {
     "data": {
      "text/plain": [
       "Index(['Date', 'TempF', 'TempK', 'Humidity', 'HrsDaylight'], dtype='object')"
      ]
     },
     "execution_count": 10,
     "metadata": {},
     "output_type": "execute_result"
    }
   ],
   "source": [
    "df_weather.columns"
   ]
  },
  {
   "cell_type": "code",
   "execution_count": 11,
   "metadata": {},
   "outputs": [
    {
     "name": "stdout",
     "output_type": "stream",
     "text": [
      "<class 'pandas.core.frame.DataFrame'>\n",
      "RangeIndex: 365 entries, 0 to 364\n",
      "Data columns (total 5 columns):\n",
      " #   Column       Non-Null Count  Dtype  \n",
      "---  ------       --------------  -----  \n",
      " 0   Date         365 non-null    object \n",
      " 1   TempF        365 non-null    float64\n",
      " 2   TempK        365 non-null    float64\n",
      " 3   Humidity     365 non-null    float64\n",
      " 4   HrsDaylight  365 non-null    float64\n",
      "dtypes: float64(4), object(1)\n",
      "memory usage: 14.4+ KB\n"
     ]
    }
   ],
   "source": [
    "df_weather.info()"
   ]
  },
  {
   "cell_type": "markdown",
   "metadata": {},
   "source": [
    "### 1.2- Data Cleaning"
   ]
  },
  {
   "cell_type": "code",
   "execution_count": 12,
   "metadata": {},
   "outputs": [
    {
     "data": {
      "text/plain": [
       "LocalTime    0\n",
       "Power(MW)    0\n",
       "dtype: int64"
      ]
     },
     "execution_count": 12,
     "metadata": {},
     "output_type": "execute_result"
    }
   ],
   "source": [
    "df_power.isna().sum()"
   ]
  },
  {
   "cell_type": "code",
   "execution_count": 13,
   "metadata": {},
   "outputs": [
    {
     "data": {
      "text/plain": [
       "0"
      ]
     },
     "execution_count": 13,
     "metadata": {},
     "output_type": "execute_result"
    }
   ],
   "source": [
    "df_power.duplicated().sum()"
   ]
  },
  {
   "cell_type": "code",
   "execution_count": 14,
   "metadata": {},
   "outputs": [
    {
     "data": {
      "text/plain": [
       "Date           0\n",
       "TempF          0\n",
       "TempK          0\n",
       "Humidity       0\n",
       "HrsDaylight    0\n",
       "dtype: int64"
      ]
     },
     "execution_count": 14,
     "metadata": {},
     "output_type": "execute_result"
    }
   ],
   "source": [
    "df_weather.isna().sum()"
   ]
  },
  {
   "cell_type": "code",
   "execution_count": 15,
   "metadata": {},
   "outputs": [
    {
     "data": {
      "text/plain": [
       "0"
      ]
     },
     "execution_count": 15,
     "metadata": {},
     "output_type": "execute_result"
    }
   ],
   "source": [
    "df_weather.duplicated().sum()"
   ]
  },
  {
   "cell_type": "markdown",
   "metadata": {},
   "source": [
    "### 1.3- Merged DF"
   ]
  },
  {
   "cell_type": "code",
   "execution_count": 16,
   "metadata": {},
   "outputs": [
    {
     "name": "stderr",
     "output_type": "stream",
     "text": [
      "/var/folders/44/_5xrjzf91674czc29jsl_xs00000gn/T/ipykernel_84701/428463717.py:3: UserWarning: Could not infer format, so each element will be parsed individually, falling back to `dateutil`. To ensure parsing is consistent and as-expected, please specify a format.\n",
      "  df_power['Date'] = pd.to_datetime(df_power['LocalTime']).dt.date\n"
     ]
    }
   ],
   "source": [
    "# Let's convert dates to datetime type\n",
    "\n",
    "df_power['Date'] = pd.to_datetime(df_power['LocalTime']).dt.date"
   ]
  },
  {
   "cell_type": "code",
   "execution_count": 17,
   "metadata": {},
   "outputs": [
    {
     "name": "stdout",
     "output_type": "stream",
     "text": [
      "        Date  Power(MW)  TempF       TempK  Humidity  HrsDaylight\n",
      "0 2006-01-01   1.567014   37.7  276.316667      75.2         9.00\n",
      "1 2006-01-02   1.936458   42.2  278.816667      73.7         9.04\n",
      "2 2006-01-03   0.571875   37.9  276.427778      85.2         9.08\n",
      "3 2006-01-04   1.970486   34.3  274.427778      70.4         9.12\n",
      "4 2006-01-05   1.453472   42.5  278.983333      76.5         9.16\n"
     ]
    }
   ],
   "source": [
    "df_power_daily = df_power.groupby('Date', as_index=False).agg({'Power(MW)': 'mean'})\n",
    "\n",
    "df_power_daily['Date'] = pd.to_datetime(df_power_daily['Date'])\n",
    "df_weather['Date'] = pd.to_datetime(df_weather['Date'])\n",
    "\n",
    "df_merged = pd.merge(df_power_daily, df_weather, on='Date', how='inner')\n",
    "\n",
    "print(df_merged.head())"
   ]
  },
  {
   "cell_type": "code",
   "execution_count": 18,
   "metadata": {},
   "outputs": [
    {
     "name": "stdout",
     "output_type": "stream",
     "text": [
      "<class 'pandas.core.frame.DataFrame'>\n",
      "RangeIndex: 365 entries, 0 to 364\n",
      "Data columns (total 6 columns):\n",
      " #   Column       Non-Null Count  Dtype         \n",
      "---  ------       --------------  -----         \n",
      " 0   Date         365 non-null    datetime64[ns]\n",
      " 1   Power(MW)    365 non-null    float64       \n",
      " 2   TempF        365 non-null    float64       \n",
      " 3   TempK        365 non-null    float64       \n",
      " 4   Humidity     365 non-null    float64       \n",
      " 5   HrsDaylight  365 non-null    float64       \n",
      "dtypes: datetime64[ns](1), float64(5)\n",
      "memory usage: 17.2 KB\n"
     ]
    }
   ],
   "source": [
    "df_merged.info()"
   ]
  },
  {
   "cell_type": "markdown",
   "metadata": {},
   "source": [
    "### 1.4- ML methods for evaluation of features"
   ]
  },
  {
   "cell_type": "code",
   "execution_count": 19,
   "metadata": {},
   "outputs": [],
   "source": [
    "X = df_merged.drop(columns=['Date', 'Power(MW)'])\n",
    "y = df_merged['Power(MW)']"
   ]
  },
  {
   "cell_type": "code",
   "execution_count": 20,
   "metadata": {},
   "outputs": [],
   "source": [
    "# Lasso machine learning method\n",
    "\n",
    "from sklearn.linear_model import Lasso\n",
    "\n",
    "lasso = Lasso(alpha=0.1)\n",
    "lasso.fit(X, y)\n",
    "lasso_coefficients = pd.Series(lasso.coef_, index=X.columns)"
   ]
  },
  {
   "cell_type": "code",
   "execution_count": 21,
   "metadata": {},
   "outputs": [
    {
     "name": "stdout",
     "output_type": "stream",
     "text": [
      "TempF          0.006946\n",
      "TempK          0.000000\n",
      "Humidity      -0.059463\n",
      "HrsDaylight    0.301656\n",
      "dtype: float64\n"
     ]
    }
   ],
   "source": [
    "print(lasso_coefficients)"
   ]
  },
  {
   "cell_type": "markdown",
   "metadata": {},
   "source": [
    "Basically, the Lasso model indicate the estimated coefficients for each feature used in the model. \n",
    "The coefficients represent the influence each feature has on the target variable. \n",
    "HrsDaylight feature has the strongest positive influence with a coefficient of 0.3\n",
    "However TempK feature has a 0 coefficient meaning it has no influence on the target variable X."
   ]
  },
  {
   "cell_type": "code",
   "execution_count": 22,
   "metadata": {},
   "outputs": [],
   "source": [
    "# Random Forest machine learning method\n",
    "\n",
    "from sklearn.ensemble import RandomForestRegressor\n",
    "\n",
    "rf = RandomForestRegressor(n_estimators=100, random_state=42)\n",
    "rf.fit(X, y)\n",
    "importances_rf = pd.Series(rf.feature_importances_, index=X.columns)"
   ]
  },
  {
   "cell_type": "code",
   "execution_count": 23,
   "metadata": {},
   "outputs": [
    {
     "name": "stdout",
     "output_type": "stream",
     "text": [
      "TempF          0.065640\n",
      "TempK          0.062573\n",
      "Humidity       0.480041\n",
      "HrsDaylight    0.391746\n",
      "dtype: float64\n"
     ]
    }
   ],
   "source": [
    "print(importances_rf)"
   ]
  },
  {
   "cell_type": "markdown",
   "metadata": {},
   "source": [
    "A measure of how much each feature contributes to the model’s predictions. Higher values indicate more important features. In the output, Humidity and HrsDaylight are the most important features for this model."
   ]
  },
  {
   "cell_type": "code",
   "execution_count": 24,
   "metadata": {},
   "outputs": [],
   "source": [
    "from sklearn.model_selection import train_test_split\n",
    "from sklearn.feature_selection import SelectKBest, f_regression\n",
    "\n",
    "X_train, X_test, y_train, y_test = train_test_split(X, y, test_size=0.2, random_state=42)\n",
    "\n",
    "anova_selector = SelectKBest(f_regression, k='all').fit(X_train, y_train)\n",
    "anova_scores = anova_selector.scores_"
   ]
  },
  {
   "cell_type": "code",
   "execution_count": 25,
   "metadata": {},
   "outputs": [
    {
     "name": "stdout",
     "output_type": "stream",
     "text": [
      "[ 28.47225044  28.47225043 157.30664454 103.91737759]\n"
     ]
    }
   ],
   "source": [
    "print(anova_scores)"
   ]
  },
  {
   "cell_type": "markdown",
   "metadata": {},
   "source": [
    "SelectKBest is used to select the most important features based on their scores computed by the ANOVA F-test. Higher scores indicate that a feature contributes more to the model and is more important. Again: Humidity and HrsDaylight are considered more important for predicting the target variable."
   ]
  },
  {
   "cell_type": "code",
   "execution_count": 26,
   "metadata": {},
   "outputs": [
    {
     "name": "stdout",
     "output_type": "stream",
     "text": [
      "             ANOVA Score  RF Importance  Lasso Coefficients\n",
      "Feature                                                    \n",
      "TempF          28.472250       0.065640            0.006946\n",
      "TempK          28.472250       0.062573            0.000000\n",
      "Humidity      157.306645       0.480041           -0.059463\n",
      "HrsDaylight   103.917378       0.391746            0.301656\n"
     ]
    }
   ],
   "source": [
    "feature_importances = pd.DataFrame({\n",
    "    'Feature': X.columns,\n",
    "    'ANOVA Score': anova_scores,\n",
    "    'RF Importance': importances_rf,\n",
    "    'Lasso Coefficients': lasso_coefficients\n",
    "}).set_index('Feature')\n",
    "\n",
    "print(feature_importances)"
   ]
  },
  {
   "cell_type": "markdown",
   "metadata": {},
   "source": [
    "### 1.5- Decisions on Feature Selection based on previous ML analysis"
   ]
  },
  {
   "cell_type": "code",
   "execution_count": 27,
   "metadata": {},
   "outputs": [
    {
     "data": {
      "image/png": "[encoded data removed]",
      "text/plain": [
       "<Figure size 800x600 with 2 Axes>"
      ]
     },
     "metadata": {},
     "output_type": "display_data"
    }
   ],
   "source": [
    "import matplotlib.pyplot as plt\n",
    "import seaborn as sns\n",
    "\n",
    "X = df_merged.drop(columns=['Date', 'Power(MW)'])\n",
    "\n",
    "corr_matrix = X.corr()\n",
    "\n",
    "plt.figure(figsize=(8, 6))\n",
    "sns.heatmap(corr_matrix, annot=True, cmap='coolwarm', fmt=\".2f\", linewidths=.5, cbar_kws={\"shrink\": .8})\n",
    "\n",
    "plt.title('Correlation Matrix between features')\n",
    "plt.show()"
   ]
  },
  {
   "cell_type": "markdown",
   "metadata": {},
   "source": [
    "We should drop TempK because it is redudant as we already have TempF. TempK and TempF are likely correlated because they represent the same physical quantity (temperature) in different units. Retaining both would lead to multicollinearity, which can reduce the model's interpretability. \n",
    "\n",
    "Let's keep only TempF as it already captures the relationship with the target variable effectively (as seen from the ANOVA score and importance values), so keeping TempK doesn't add new information.\n",
    "\n",
    "The Lasso has reduced the coefficient of TempK to 0, indicating that it isn't significantly contributing to the model's predictions.\n",
    "So basically, removing TempK simplifies the model without a significant loss of predictive power."
   ]
  },
  {
   "cell_type": "code",
   "execution_count": 28,
   "metadata": {},
   "outputs": [],
   "source": [
    "X = X.drop(columns=['TempK'])"
   ]
  },
  {
   "cell_type": "markdown",
   "metadata": {},
   "source": [
    "So let's keep:\n",
    "- TempF: although the key metrics don't indicate a strong influence from this feature, I think it's still too early to reject it from our model, but it's highly likely that this feature will turn out to be irrelevant. \n",
    "- Humidity: it has the highest ANOVA score and Random Forest importance. So this feature is clearly influential! Yes the Lasso coefficient is negative but it simply means an inverse relationship with the target variable.\n",
    "- HrsDaylight: it has a high ANOVA score and Random Forest importance. The Lasso coefficient is positive, maybe meaning a direct relationship with the target."
   ]
  },
  {
   "cell_type": "markdown",
   "metadata": {},
   "source": [
    "# 2- Task 2"
   ]
  },
  {
   "cell_type": "markdown",
   "metadata": {},
   "source": [
    "### 2.1- Exploratory Data Anlysis (EDA)"
   ]
  },
  {
   "cell_type": "code",
   "execution_count": 29,
   "metadata": {},
   "outputs": [],
   "source": [
    "import numpy as np\n",
    "import statsmodels.api as sm"
   ]
  },
  {
   "cell_type": "code",
   "execution_count": 30,
   "metadata": {},
   "outputs": [
    {
     "data": {
      "image/png": "[encoded data removed]",
      "text/plain": [
       "<Figure size 1500x500 with 3 Axes>"
      ]
     },
     "metadata": {},
     "output_type": "display_data"
    }
   ],
   "source": [
    "features = ['TempF', 'Humidity', 'HrsDaylight']\n",
    "\n",
    "plt.figure(figsize=(15, 5))\n",
    "\n",
    "for i, feature in enumerate(features, 1):\n",
    "    plt.subplot(1, 3, i)\n",
    "    sns.scatterplot(data=df_merged, x=feature, y='Power(MW)')\n",
    "    plt.title(f'Scatter Plot of {feature} vs Power(MW)')\n",
    "\n",
    "plt.tight_layout()\n",
    "plt.show()"
   ]
  },
  {
   "cell_type": "code",
   "execution_count": 31,
   "metadata": {},
   "outputs": [
    {
     "name": "stdout",
     "output_type": "stream",
     "text": [
      "Correlation Coefficients:\n",
      "TempF          0.280667\n",
      "Humidity      -0.609592\n",
      "HrsDaylight    0.518515\n",
      "dtype: float64\n"
     ]
    }
   ],
   "source": [
    "correlations = df_merged[features].apply(lambda x: x.corr(df_merged['Power(MW)']))\n",
    "\n",
    "print(\"Correlation Coefficients:\")\n",
    "print(correlations)"
   ]
  },
  {
   "cell_type": "code",
   "execution_count": 32,
   "metadata": {},
   "outputs": [
    {
     "data": {
      "image/png": "[encoded data removed]",
      "text/plain": [
       "<Figure size 800x800 with 1 Axes>"
      ]
     },
     "metadata": {},
     "output_type": "display_data"
    },
    {
     "data": {
      "image/png": "[encoded data removed]",
      "text/plain": [
       "<Figure size 800x800 with 1 Axes>"
      ]
     },
     "metadata": {},
     "output_type": "display_data"
    },
    {
     "data": {
      "image/png": "[encoded data removed]",
      "text/plain": [
       "<Figure size 800x800 with 1 Axes>"
      ]
     },
     "metadata": {},
     "output_type": "display_data"
    }
   ],
   "source": [
    "def plot_residuals(feature):\n",
    "    X = df_merged[[feature]]\n",
    "    y = df_merged['Power(MW)']\n",
    "    X = sm.add_constant(X)\n",
    "    model = sm.OLS(y, X).fit()\n",
    "\n",
    "    plt.figure(figsize=(8, 8))\n",
    "    plt.scatter(model.fittedvalues, model.resid)\n",
    "    plt.axhline(y=0, color='r', linestyle='--')\n",
    "    plt.title(f'Residuals vs Fitted for {feature}')\n",
    "    plt.xlabel('Fitted values')\n",
    "    plt.ylabel('Residuals')\n",
    "    plt.show()\n",
    "\n",
    "for feature in features:\n",
    "    plot_residuals(feature)"
   ]
  },
  {
   "cell_type": "markdown",
   "metadata": {},
   "source": [
    "### 2.2- Test different models"
   ]
  },
  {
   "cell_type": "markdown",
   "metadata": {},
   "source": [
    "From the previous EDA and the feature selection with ML methods, let's try 4 different ML models for the prediction:\n",
    "\n",
    "- Random Forest Regressor \n",
    "- Gradient Boosting Machine\t\n",
    "- K-Nearest Neighbors (KNN)\t\n",
    "- Linear Regression\t"
   ]
  },
  {
   "cell_type": "code",
   "execution_count": 33,
   "metadata": {},
   "outputs": [],
   "source": [
    "from sklearn.ensemble import RandomForestRegressor\n",
    "from sklearn.model_selection import train_test_split\n",
    "from sklearn.metrics import mean_squared_error, r2_score, mean_absolute_error"
   ]
  },
  {
   "cell_type": "code",
   "execution_count": 34,
   "metadata": {},
   "outputs": [
    {
     "data": {
      "text/html": [
       "<div>\n",
       "<style scoped>\n",
       "    .dataframe tbody tr th:only-of-type {\n",
       "        vertical-align: middle;\n",
       "    }\n",
       "\n",
       "    .dataframe tbody tr th {\n",
       "        vertical-align: top;\n",
       "    }\n",
       "\n",
       "    .dataframe thead th {\n",
       "        text-align: right;\n",
       "    }\n",
       "</style>\n",
       "<table border=\"1\" class=\"dataframe\">\n",
       "  <thead>\n",
       "    <tr style=\"text-align: right;\">\n",
       "      <th></th>\n",
       "      <th>Model</th>\n",
       "      <th>Mean Squared Error (MSE)</th>\n",
       "      <th>R² Score</th>\n",
       "      <th>Mean Absolute Error (MAE)</th>\n",
       "    </tr>\n",
       "  </thead>\n",
       "  <tbody>\n",
       "    <tr>\n",
       "      <th>1</th>\n",
       "      <td>NaN</td>\n",
       "      <td>NaN</td>\n",
       "      <td>NaN</td>\n",
       "      <td>NaN</td>\n",
       "    </tr>\n",
       "    <tr>\n",
       "      <th>2</th>\n",
       "      <td>NaN</td>\n",
       "      <td>NaN</td>\n",
       "      <td>NaN</td>\n",
       "      <td>NaN</td>\n",
       "    </tr>\n",
       "    <tr>\n",
       "      <th>3</th>\n",
       "      <td>NaN</td>\n",
       "      <td>NaN</td>\n",
       "      <td>NaN</td>\n",
       "      <td>NaN</td>\n",
       "    </tr>\n",
       "    <tr>\n",
       "      <th>4</th>\n",
       "      <td>NaN</td>\n",
       "      <td>NaN</td>\n",
       "      <td>NaN</td>\n",
       "      <td>NaN</td>\n",
       "    </tr>\n",
       "  </tbody>\n",
       "</table>\n",
       "</div>"
      ],
      "text/plain": [
       "  Model Mean Squared Error (MSE) R² Score Mean Absolute Error (MAE)\n",
       "1   NaN                      NaN      NaN                       NaN\n",
       "2   NaN                      NaN      NaN                       NaN\n",
       "3   NaN                      NaN      NaN                       NaN\n",
       "4   NaN                      NaN      NaN                       NaN"
      ]
     },
     "execution_count": 34,
     "metadata": {},
     "output_type": "execute_result"
    }
   ],
   "source": [
    "# let's create a df to keep our metrics from the models and compare them very easily!\n",
    "\n",
    "metrics_df = pd.DataFrame(columns = ['Model', 'Mean Squared Error (MSE)', 'R² Score', 'Mean Absolute Error (MAE)'], \n",
    "                         index = ['1', '2', '3', '4'])\n",
    "metrics_df.head()"
   ]
  },
  {
   "cell_type": "code",
   "execution_count": 35,
   "metadata": {},
   "outputs": [
    {
     "name": "stdout",
     "output_type": "stream",
     "text": [
      "MSE: 0.8345095759680732, R2 Score: 0.5805365218207585, MAE: 0.725363108828006\n"
     ]
    }
   ],
   "source": [
    "# Random Forest Regressor\n",
    "\n",
    "X_train, X_test, y_train, y_test = train_test_split(df_merged[['TempF', 'Humidity', 'HrsDaylight']],\n",
    "                                                    df_merged['Power(MW)'], test_size=0.2, random_state=42)\n",
    "\n",
    "rf_model = RandomForestRegressor(n_estimators=100, random_state=42)\n",
    "\n",
    "rf_model.fit(X_train, y_train)\n",
    "\n",
    "y_pred_rf = rf_model.predict(X_test)\n",
    "\n",
    "mse = mean_squared_error(y_test, y_pred_rf)\n",
    "r2 = r2_score(y_test, y_pred_rf)\n",
    "mae = mean_absolute_error(y_test, y_pred_rf)\n",
    "\n",
    "print(f\"MSE: {mse}, R2 Score: {r2}, MAE: {mae}\")"
   ]
  },
  {
   "cell_type": "code",
   "execution_count": 36,
   "metadata": {},
   "outputs": [
    {
     "data": {
      "text/html": [
       "<div>\n",
       "<style scoped>\n",
       "    .dataframe tbody tr th:only-of-type {\n",
       "        vertical-align: middle;\n",
       "    }\n",
       "\n",
       "    .dataframe tbody tr th {\n",
       "        vertical-align: top;\n",
       "    }\n",
       "\n",
       "    .dataframe thead th {\n",
       "        text-align: right;\n",
       "    }\n",
       "</style>\n",
       "<table border=\"1\" class=\"dataframe\">\n",
       "  <thead>\n",
       "    <tr style=\"text-align: right;\">\n",
       "      <th></th>\n",
       "      <th>Model</th>\n",
       "      <th>Mean Squared Error (MSE)</th>\n",
       "      <th>R² Score</th>\n",
       "      <th>Mean Absolute Error (MAE)</th>\n",
       "    </tr>\n",
       "  </thead>\n",
       "  <tbody>\n",
       "    <tr>\n",
       "      <th>1</th>\n",
       "      <td>Random Forest Regressor</td>\n",
       "      <td>0.83</td>\n",
       "      <td>0.58</td>\n",
       "      <td>0.72</td>\n",
       "    </tr>\n",
       "    <tr>\n",
       "      <th>2</th>\n",
       "      <td>NaN</td>\n",
       "      <td>NaN</td>\n",
       "      <td>NaN</td>\n",
       "      <td>NaN</td>\n",
       "    </tr>\n",
       "    <tr>\n",
       "      <th>3</th>\n",
       "      <td>NaN</td>\n",
       "      <td>NaN</td>\n",
       "      <td>NaN</td>\n",
       "      <td>NaN</td>\n",
       "    </tr>\n",
       "    <tr>\n",
       "      <th>4</th>\n",
       "      <td>NaN</td>\n",
       "      <td>NaN</td>\n",
       "      <td>NaN</td>\n",
       "      <td>NaN</td>\n",
       "    </tr>\n",
       "  </tbody>\n",
       "</table>\n",
       "</div>"
      ],
      "text/plain": [
       "                     Model Mean Squared Error (MSE) R² Score  \\\n",
       "1  Random Forest Regressor                     0.83     0.58   \n",
       "2                      NaN                      NaN      NaN   \n",
       "3                      NaN                      NaN      NaN   \n",
       "4                      NaN                      NaN      NaN   \n",
       "\n",
       "  Mean Absolute Error (MAE)  \n",
       "1                      0.72  \n",
       "2                       NaN  \n",
       "3                       NaN  \n",
       "4                       NaN  "
      ]
     },
     "execution_count": 36,
     "metadata": {},
     "output_type": "execute_result"
    }
   ],
   "source": [
    "metrics_df.loc['1'] = pd.Series({'Model': 'Random Forest Regressor', 'Mean Squared Error (MSE)': 0.83, 'R² Score': 0.58, \n",
    "                                 'Mean Absolute Error (MAE)': 0.72})\n",
    "metrics_df.head()"
   ]
  },
  {
   "cell_type": "code",
   "execution_count": 37,
   "metadata": {},
   "outputs": [
    {
     "name": "stdout",
     "output_type": "stream",
     "text": [
      "MSE: 0.789298421868566, R2 Score: 0.6032617588907792, MAE: 0.7054091146089969\n"
     ]
    }
   ],
   "source": [
    "# Gradient Boosting Machine\n",
    "\n",
    "from sklearn.ensemble import GradientBoostingRegressor\n",
    "\n",
    "gbm_model = GradientBoostingRegressor(n_estimators=100, random_state=42)\n",
    "\n",
    "gbm_model.fit(X_train, y_train)\n",
    "\n",
    "y_pred_gb = gbm_model.predict(X_test)\n",
    "\n",
    "mse = mean_squared_error(y_test, y_pred_gb)\n",
    "r2 = r2_score(y_test, y_pred_gb)\n",
    "mae = mean_absolute_error(y_test, y_pred_gb)\n",
    "\n",
    "print(f\"MSE: {mse}, R2 Score: {r2}, MAE: {mae}\")"
   ]
  },
  {
   "cell_type": "code",
   "execution_count": 38,
   "metadata": {},
   "outputs": [
    {
     "data": {
      "text/html": [
       "<div>\n",
       "<style scoped>\n",
       "    .dataframe tbody tr th:only-of-type {\n",
       "        vertical-align: middle;\n",
       "    }\n",
       "\n",
       "    .dataframe tbody tr th {\n",
       "        vertical-align: top;\n",
       "    }\n",
       "\n",
       "    .dataframe thead th {\n",
       "        text-align: right;\n",
       "    }\n",
       "</style>\n",
       "<table border=\"1\" class=\"dataframe\">\n",
       "  <thead>\n",
       "    <tr style=\"text-align: right;\">\n",
       "      <th></th>\n",
       "      <th>Model</th>\n",
       "      <th>Mean Squared Error (MSE)</th>\n",
       "      <th>R² Score</th>\n",
       "      <th>Mean Absolute Error (MAE)</th>\n",
       "    </tr>\n",
       "  </thead>\n",
       "  <tbody>\n",
       "    <tr>\n",
       "      <th>1</th>\n",
       "      <td>Random Forest Regressor</td>\n",
       "      <td>0.83</td>\n",
       "      <td>0.58</td>\n",
       "      <td>0.72</td>\n",
       "    </tr>\n",
       "    <tr>\n",
       "      <th>2</th>\n",
       "      <td>Gradient Boosting Machine</td>\n",
       "      <td>0.79</td>\n",
       "      <td>0.6</td>\n",
       "      <td>0.7</td>\n",
       "    </tr>\n",
       "    <tr>\n",
       "      <th>3</th>\n",
       "      <td>NaN</td>\n",
       "      <td>NaN</td>\n",
       "      <td>NaN</td>\n",
       "      <td>NaN</td>\n",
       "    </tr>\n",
       "    <tr>\n",
       "      <th>4</th>\n",
       "      <td>NaN</td>\n",
       "      <td>NaN</td>\n",
       "      <td>NaN</td>\n",
       "      <td>NaN</td>\n",
       "    </tr>\n",
       "  </tbody>\n",
       "</table>\n",
       "</div>"
      ],
      "text/plain": [
       "                       Model Mean Squared Error (MSE) R² Score  \\\n",
       "1    Random Forest Regressor                     0.83     0.58   \n",
       "2  Gradient Boosting Machine                     0.79      0.6   \n",
       "3                        NaN                      NaN      NaN   \n",
       "4                        NaN                      NaN      NaN   \n",
       "\n",
       "  Mean Absolute Error (MAE)  \n",
       "1                      0.72  \n",
       "2                       0.7  \n",
       "3                       NaN  \n",
       "4                       NaN  "
      ]
     },
     "execution_count": 38,
     "metadata": {},
     "output_type": "execute_result"
    }
   ],
   "source": [
    "metrics_df.loc['2'] = pd.Series({'Model': 'Gradient Boosting Machine', 'Mean Squared Error (MSE)': 0.79, 'R² Score': 0.60, \n",
    "                                 'Mean Absolute Error (MAE)': 0.70})\n",
    "metrics_df.head()"
   ]
  },
  {
   "cell_type": "code",
   "execution_count": 39,
   "metadata": {},
   "outputs": [
    {
     "name": "stdout",
     "output_type": "stream",
     "text": [
      "MSE: 0.8546227022291982, R2 Score: 0.5704267254307498, MAE: 0.7460521308980211\n"
     ]
    }
   ],
   "source": [
    "# K-Nearest Neighbors (KNN)\n",
    "\n",
    "from sklearn.neighbors import KNeighborsRegressor\n",
    "\n",
    "knn = KNeighborsRegressor(n_neighbors=5)\n",
    "knn.fit(X_train, y_train)\n",
    "\n",
    "y_pred_knn = knn.predict(X_test)\n",
    "\n",
    "mse = mean_squared_error(y_test, y_pred_knn)\n",
    "r2 = r2_score(y_test, y_pred_knn)\n",
    "mae = mean_absolute_error(y_test, y_pred_knn)\n",
    "\n",
    "print(f\"MSE: {mse}, R2 Score: {r2}, MAE: {mae}\")"
   ]
  },
  {
   "cell_type": "code",
   "execution_count": 40,
   "metadata": {},
   "outputs": [
    {
     "data": {
      "text/html": [
       "<div>\n",
       "<style scoped>\n",
       "    .dataframe tbody tr th:only-of-type {\n",
       "        vertical-align: middle;\n",
       "    }\n",
       "\n",
       "    .dataframe tbody tr th {\n",
       "        vertical-align: top;\n",
       "    }\n",
       "\n",
       "    .dataframe thead th {\n",
       "        text-align: right;\n",
       "    }\n",
       "</style>\n",
       "<table border=\"1\" class=\"dataframe\">\n",
       "  <thead>\n",
       "    <tr style=\"text-align: right;\">\n",
       "      <th></th>\n",
       "      <th>Model</th>\n",
       "      <th>Mean Squared Error (MSE)</th>\n",
       "      <th>R² Score</th>\n",
       "      <th>Mean Absolute Error (MAE)</th>\n",
       "    </tr>\n",
       "  </thead>\n",
       "  <tbody>\n",
       "    <tr>\n",
       "      <th>1</th>\n",
       "      <td>Random Forest Regressor</td>\n",
       "      <td>0.83</td>\n",
       "      <td>0.58</td>\n",
       "      <td>0.72</td>\n",
       "    </tr>\n",
       "    <tr>\n",
       "      <th>2</th>\n",
       "      <td>Gradient Boosting Machine</td>\n",
       "      <td>0.79</td>\n",
       "      <td>0.6</td>\n",
       "      <td>0.7</td>\n",
       "    </tr>\n",
       "    <tr>\n",
       "      <th>3</th>\n",
       "      <td>K-Nearest Neighbors (KNN)</td>\n",
       "      <td>0.85</td>\n",
       "      <td>0.57</td>\n",
       "      <td>0.75</td>\n",
       "    </tr>\n",
       "    <tr>\n",
       "      <th>4</th>\n",
       "      <td>NaN</td>\n",
       "      <td>NaN</td>\n",
       "      <td>NaN</td>\n",
       "      <td>NaN</td>\n",
       "    </tr>\n",
       "  </tbody>\n",
       "</table>\n",
       "</div>"
      ],
      "text/plain": [
       "                       Model Mean Squared Error (MSE) R² Score  \\\n",
       "1    Random Forest Regressor                     0.83     0.58   \n",
       "2  Gradient Boosting Machine                     0.79      0.6   \n",
       "3  K-Nearest Neighbors (KNN)                     0.85     0.57   \n",
       "4                        NaN                      NaN      NaN   \n",
       "\n",
       "  Mean Absolute Error (MAE)  \n",
       "1                      0.72  \n",
       "2                       0.7  \n",
       "3                      0.75  \n",
       "4                       NaN  "
      ]
     },
     "execution_count": 40,
     "metadata": {},
     "output_type": "execute_result"
    }
   ],
   "source": [
    "metrics_df.loc['3'] = pd.Series({'Model': 'K-Nearest Neighbors (KNN)', 'Mean Squared Error (MSE)': 0.85, 'R² Score': 0.57, \n",
    "                                 'Mean Absolute Error (MAE)': 0.75})\n",
    "metrics_df.head()"
   ]
  },
  {
   "cell_type": "code",
   "execution_count": 41,
   "metadata": {},
   "outputs": [
    {
     "name": "stdout",
     "output_type": "stream",
     "text": [
      "MSE: 0.6955301422197582, R2 Score: 0.6503940745130957, MAE: 0.6973554807406088\n"
     ]
    }
   ],
   "source": [
    "# Linear Regression\n",
    "\n",
    "from sklearn.linear_model import LinearRegression\n",
    "\n",
    "lin_reg = LinearRegression()\n",
    "lin_reg.fit(X_train, y_train)\n",
    "\n",
    "y_pred_lr = lin_reg.predict(X_test)\n",
    "\n",
    "mse = mean_squared_error(y_test, y_pred_lr)\n",
    "r2 = r2_score(y_test, y_pred_lr)\n",
    "mae = mean_absolute_error(y_test, y_pred_lr)\n",
    "\n",
    "print(f\"MSE: {mse}, R2 Score: {r2}, MAE: {mae}\")"
   ]
  },
  {
   "cell_type": "code",
   "execution_count": 42,
   "metadata": {},
   "outputs": [
    {
     "data": {
      "text/html": [
       "<div>\n",
       "<style scoped>\n",
       "    .dataframe tbody tr th:only-of-type {\n",
       "        vertical-align: middle;\n",
       "    }\n",
       "\n",
       "    .dataframe tbody tr th {\n",
       "        vertical-align: top;\n",
       "    }\n",
       "\n",
       "    .dataframe thead th {\n",
       "        text-align: right;\n",
       "    }\n",
       "</style>\n",
       "<table border=\"1\" class=\"dataframe\">\n",
       "  <thead>\n",
       "    <tr style=\"text-align: right;\">\n",
       "      <th></th>\n",
       "      <th>Model</th>\n",
       "      <th>Mean Squared Error (MSE)</th>\n",
       "      <th>R² Score</th>\n",
       "      <th>Mean Absolute Error (MAE)</th>\n",
       "    </tr>\n",
       "  </thead>\n",
       "  <tbody>\n",
       "    <tr>\n",
       "      <th>1</th>\n",
       "      <td>Random Forest Regressor</td>\n",
       "      <td>0.83</td>\n",
       "      <td>0.58</td>\n",
       "      <td>0.72</td>\n",
       "    </tr>\n",
       "    <tr>\n",
       "      <th>2</th>\n",
       "      <td>Gradient Boosting Machine</td>\n",
       "      <td>0.79</td>\n",
       "      <td>0.6</td>\n",
       "      <td>0.7</td>\n",
       "    </tr>\n",
       "    <tr>\n",
       "      <th>3</th>\n",
       "      <td>K-Nearest Neighbors (KNN)</td>\n",
       "      <td>0.85</td>\n",
       "      <td>0.57</td>\n",
       "      <td>0.75</td>\n",
       "    </tr>\n",
       "    <tr>\n",
       "      <th>4</th>\n",
       "      <td>Linear Regression</td>\n",
       "      <td>0.7</td>\n",
       "      <td>0.65</td>\n",
       "      <td>0.7</td>\n",
       "    </tr>\n",
       "  </tbody>\n",
       "</table>\n",
       "</div>"
      ],
      "text/plain": [
       "                       Model Mean Squared Error (MSE) R² Score  \\\n",
       "1    Random Forest Regressor                     0.83     0.58   \n",
       "2  Gradient Boosting Machine                     0.79      0.6   \n",
       "3  K-Nearest Neighbors (KNN)                     0.85     0.57   \n",
       "4          Linear Regression                      0.7     0.65   \n",
       "\n",
       "  Mean Absolute Error (MAE)  \n",
       "1                      0.72  \n",
       "2                       0.7  \n",
       "3                      0.75  \n",
       "4                       0.7  "
      ]
     },
     "execution_count": 42,
     "metadata": {},
     "output_type": "execute_result"
    }
   ],
   "source": [
    "metrics_df.loc['4'] = pd.Series({'Model': 'Linear Regression', 'Mean Squared Error (MSE)': 0.70, 'R² Score': 0.65, \n",
    "                                 'Mean Absolute Error (MAE)': 0.70})\n",
    "metrics_df.head()"
   ]
  },
  {
   "cell_type": "code",
   "execution_count": 43,
   "metadata": {},
   "outputs": [
    {
     "data": {
      "text/html": [
       "<div>\n",
       "<style scoped>\n",
       "    .dataframe tbody tr th:only-of-type {\n",
       "        vertical-align: middle;\n",
       "    }\n",
       "\n",
       "    .dataframe tbody tr th {\n",
       "        vertical-align: top;\n",
       "    }\n",
       "\n",
       "    .dataframe thead th {\n",
       "        text-align: right;\n",
       "    }\n",
       "</style>\n",
       "<table border=\"1\" class=\"dataframe\">\n",
       "  <thead>\n",
       "    <tr style=\"text-align: right;\">\n",
       "      <th></th>\n",
       "      <th>Model</th>\n",
       "      <th>Mean Squared Error (MSE)</th>\n",
       "      <th>R² Score</th>\n",
       "      <th>Mean Absolute Error (MAE)</th>\n",
       "    </tr>\n",
       "  </thead>\n",
       "  <tbody>\n",
       "    <tr>\n",
       "      <th>1</th>\n",
       "      <td>Random Forest Regressor</td>\n",
       "      <td>0.83</td>\n",
       "      <td>0.58</td>\n",
       "      <td>0.72</td>\n",
       "    </tr>\n",
       "    <tr>\n",
       "      <th>2</th>\n",
       "      <td>Gradient Boosting Machine</td>\n",
       "      <td>0.79</td>\n",
       "      <td>0.6</td>\n",
       "      <td>0.7</td>\n",
       "    </tr>\n",
       "    <tr>\n",
       "      <th>3</th>\n",
       "      <td>K-Nearest Neighbors (KNN)</td>\n",
       "      <td>0.85</td>\n",
       "      <td>0.57</td>\n",
       "      <td>0.75</td>\n",
       "    </tr>\n",
       "    <tr>\n",
       "      <th>4</th>\n",
       "      <td>Linear Regression</td>\n",
       "      <td>0.7</td>\n",
       "      <td>0.65</td>\n",
       "      <td>0.7</td>\n",
       "    </tr>\n",
       "  </tbody>\n",
       "</table>\n",
       "</div>"
      ],
      "text/plain": [
       "                       Model Mean Squared Error (MSE) R² Score  \\\n",
       "1    Random Forest Regressor                     0.83     0.58   \n",
       "2  Gradient Boosting Machine                     0.79      0.6   \n",
       "3  K-Nearest Neighbors (KNN)                     0.85     0.57   \n",
       "4          Linear Regression                      0.7     0.65   \n",
       "\n",
       "  Mean Absolute Error (MAE)  \n",
       "1                      0.72  \n",
       "2                       0.7  \n",
       "3                      0.75  \n",
       "4                       0.7  "
      ]
     },
     "execution_count": 43,
     "metadata": {},
     "output_type": "execute_result"
    }
   ],
   "source": [
    "metrics_df.head(4)"
   ]
  },
  {
   "cell_type": "markdown",
   "metadata": {},
   "source": [
    "### 2.3- Feature Re-evaluation"
   ]
  },
  {
   "cell_type": "markdown",
   "metadata": {},
   "source": [
    "I think we need to drop the TempF feature because it has a negative impact on our results. We're going to try to re-build our models without this feature and see if it's better. Then we can move on to choosing our final model and trying to improve it through different tunnings."
   ]
  },
  {
   "cell_type": "markdown",
   "metadata": {},
   "source": [
    "### 2.4- Re-test different models"
   ]
  },
  {
   "cell_type": "code",
   "execution_count": 44,
   "metadata": {},
   "outputs": [
    {
     "data": {
      "text/html": [
       "<div>\n",
       "<style scoped>\n",
       "    .dataframe tbody tr th:only-of-type {\n",
       "        vertical-align: middle;\n",
       "    }\n",
       "\n",
       "    .dataframe tbody tr th {\n",
       "        vertical-align: top;\n",
       "    }\n",
       "\n",
       "    .dataframe thead th {\n",
       "        text-align: right;\n",
       "    }\n",
       "</style>\n",
       "<table border=\"1\" class=\"dataframe\">\n",
       "  <thead>\n",
       "    <tr style=\"text-align: right;\">\n",
       "      <th></th>\n",
       "      <th>Model</th>\n",
       "      <th>Mean Squared Error (MSE)</th>\n",
       "      <th>R² Score</th>\n",
       "      <th>Mean Absolute Error (MAE)</th>\n",
       "    </tr>\n",
       "  </thead>\n",
       "  <tbody>\n",
       "    <tr>\n",
       "      <th>1</th>\n",
       "      <td>NaN</td>\n",
       "      <td>NaN</td>\n",
       "      <td>NaN</td>\n",
       "      <td>NaN</td>\n",
       "    </tr>\n",
       "    <tr>\n",
       "      <th>2</th>\n",
       "      <td>NaN</td>\n",
       "      <td>NaN</td>\n",
       "      <td>NaN</td>\n",
       "      <td>NaN</td>\n",
       "    </tr>\n",
       "    <tr>\n",
       "      <th>3</th>\n",
       "      <td>NaN</td>\n",
       "      <td>NaN</td>\n",
       "      <td>NaN</td>\n",
       "      <td>NaN</td>\n",
       "    </tr>\n",
       "    <tr>\n",
       "      <th>4</th>\n",
       "      <td>NaN</td>\n",
       "      <td>NaN</td>\n",
       "      <td>NaN</td>\n",
       "      <td>NaN</td>\n",
       "    </tr>\n",
       "  </tbody>\n",
       "</table>\n",
       "</div>"
      ],
      "text/plain": [
       "  Model Mean Squared Error (MSE) R² Score Mean Absolute Error (MAE)\n",
       "1   NaN                      NaN      NaN                       NaN\n",
       "2   NaN                      NaN      NaN                       NaN\n",
       "3   NaN                      NaN      NaN                       NaN\n",
       "4   NaN                      NaN      NaN                       NaN"
      ]
     },
     "execution_count": 44,
     "metadata": {},
     "output_type": "execute_result"
    }
   ],
   "source": [
    "# let's create another df to keep our metrics from the new models and compare them very easily!\n",
    "\n",
    "new_metrics_df = pd.DataFrame(columns = ['Model', 'Mean Squared Error (MSE)', 'R² Score', 'Mean Absolute Error (MAE)'], \n",
    "                         index = ['1', '2', '3', '4'])\n",
    "new_metrics_df.head()"
   ]
  },
  {
   "cell_type": "code",
   "execution_count": 45,
   "metadata": {},
   "outputs": [
    {
     "name": "stdout",
     "output_type": "stream",
     "text": [
      "MSE: 0.7654518144813661, R2 Score: 0.6152481772201386, MAE: 0.7261015506088281\n"
     ]
    }
   ],
   "source": [
    "# New Random Forest Regressor\n",
    "\n",
    "new_X_train, new_X_test, new_y_train, new_y_test = train_test_split(df_merged[['Humidity', 'HrsDaylight']],\n",
    "                                                    df_merged['Power(MW)'], test_size=0.2, random_state=42)\n",
    "\n",
    "new_rf_model = RandomForestRegressor(n_estimators=100, random_state=42)\n",
    "\n",
    "new_rf_model.fit(new_X_train, new_y_train)\n",
    "\n",
    "new_y_pred_rf = new_rf_model.predict(new_X_test)\n",
    "\n",
    "mse = mean_squared_error(new_y_test, new_y_pred_rf)\n",
    "r2 = r2_score(new_y_test, new_y_pred_rf)\n",
    "mae = mean_absolute_error(new_y_test, new_y_pred_rf)\n",
    "\n",
    "print(f\"MSE: {mse}, R2 Score: {r2}, MAE: {mae}\")"
   ]
  },
  {
   "cell_type": "code",
   "execution_count": 46,
   "metadata": {},
   "outputs": [
    {
     "data": {
      "text/html": [
       "<div>\n",
       "<style scoped>\n",
       "    .dataframe tbody tr th:only-of-type {\n",
       "        vertical-align: middle;\n",
       "    }\n",
       "\n",
       "    .dataframe tbody tr th {\n",
       "        vertical-align: top;\n",
       "    }\n",
       "\n",
       "    .dataframe thead th {\n",
       "        text-align: right;\n",
       "    }\n",
       "</style>\n",
       "<table border=\"1\" class=\"dataframe\">\n",
       "  <thead>\n",
       "    <tr style=\"text-align: right;\">\n",
       "      <th></th>\n",
       "      <th>Model</th>\n",
       "      <th>Mean Squared Error (MSE)</th>\n",
       "      <th>R² Score</th>\n",
       "      <th>Mean Absolute Error (MAE)</th>\n",
       "    </tr>\n",
       "  </thead>\n",
       "  <tbody>\n",
       "    <tr>\n",
       "      <th>1</th>\n",
       "      <td>New Random Forest Regressor</td>\n",
       "      <td>0.76</td>\n",
       "      <td>0.61</td>\n",
       "      <td>0.73</td>\n",
       "    </tr>\n",
       "    <tr>\n",
       "      <th>2</th>\n",
       "      <td>NaN</td>\n",
       "      <td>NaN</td>\n",
       "      <td>NaN</td>\n",
       "      <td>NaN</td>\n",
       "    </tr>\n",
       "    <tr>\n",
       "      <th>3</th>\n",
       "      <td>NaN</td>\n",
       "      <td>NaN</td>\n",
       "      <td>NaN</td>\n",
       "      <td>NaN</td>\n",
       "    </tr>\n",
       "    <tr>\n",
       "      <th>4</th>\n",
       "      <td>NaN</td>\n",
       "      <td>NaN</td>\n",
       "      <td>NaN</td>\n",
       "      <td>NaN</td>\n",
       "    </tr>\n",
       "  </tbody>\n",
       "</table>\n",
       "</div>"
      ],
      "text/plain": [
       "                         Model Mean Squared Error (MSE) R² Score  \\\n",
       "1  New Random Forest Regressor                     0.76     0.61   \n",
       "2                          NaN                      NaN      NaN   \n",
       "3                          NaN                      NaN      NaN   \n",
       "4                          NaN                      NaN      NaN   \n",
       "\n",
       "  Mean Absolute Error (MAE)  \n",
       "1                      0.73  \n",
       "2                       NaN  \n",
       "3                       NaN  \n",
       "4                       NaN  "
      ]
     },
     "execution_count": 46,
     "metadata": {},
     "output_type": "execute_result"
    }
   ],
   "source": [
    "new_metrics_df.loc['1'] = pd.Series({'Model': 'New Random Forest Regressor', 'Mean Squared Error (MSE)': 0.76, 'R² Score': 0.61, \n",
    "                                 'Mean Absolute Error (MAE)': 0.73})\n",
    "new_metrics_df.head()"
   ]
  },
  {
   "cell_type": "code",
   "execution_count": 47,
   "metadata": {},
   "outputs": [
    {
     "name": "stdout",
     "output_type": "stream",
     "text": [
      "MSE: 0.689562412933083, R2 Score: 0.6533937339004874, MAE: 0.6710921432907797\n"
     ]
    }
   ],
   "source": [
    "# New Gradient Boosting Machine\n",
    "\n",
    "from sklearn.ensemble import GradientBoostingRegressor\n",
    "\n",
    "new_gbm_model = GradientBoostingRegressor(n_estimators=100, random_state=42)\n",
    "\n",
    "new_gbm_model.fit(new_X_train, new_y_train)\n",
    "\n",
    "new_y_pred_gb = new_gbm_model.predict(new_X_test)\n",
    "\n",
    "mse = mean_squared_error(new_y_test, new_y_pred_gb)\n",
    "r2 = r2_score(new_y_test, new_y_pred_gb)\n",
    "mae = mean_absolute_error(new_y_test, new_y_pred_gb)\n",
    "\n",
    "print(f\"MSE: {mse}, R2 Score: {r2}, MAE: {mae}\")"
   ]
  },
  {
   "cell_type": "code",
   "execution_count": 48,
   "metadata": {},
   "outputs": [
    {
     "data": {
      "text/html": [
       "<div>\n",
       "<style scoped>\n",
       "    .dataframe tbody tr th:only-of-type {\n",
       "        vertical-align: middle;\n",
       "    }\n",
       "\n",
       "    .dataframe tbody tr th {\n",
       "        vertical-align: top;\n",
       "    }\n",
       "\n",
       "    .dataframe thead th {\n",
       "        text-align: right;\n",
       "    }\n",
       "</style>\n",
       "<table border=\"1\" class=\"dataframe\">\n",
       "  <thead>\n",
       "    <tr style=\"text-align: right;\">\n",
       "      <th></th>\n",
       "      <th>Model</th>\n",
       "      <th>Mean Squared Error (MSE)</th>\n",
       "      <th>R² Score</th>\n",
       "      <th>Mean Absolute Error (MAE)</th>\n",
       "    </tr>\n",
       "  </thead>\n",
       "  <tbody>\n",
       "    <tr>\n",
       "      <th>1</th>\n",
       "      <td>New Random Forest Regressor</td>\n",
       "      <td>0.76</td>\n",
       "      <td>0.61</td>\n",
       "      <td>0.73</td>\n",
       "    </tr>\n",
       "    <tr>\n",
       "      <th>2</th>\n",
       "      <td>New Gradient Boosting Machine</td>\n",
       "      <td>0.69</td>\n",
       "      <td>0.65</td>\n",
       "      <td>0.67</td>\n",
       "    </tr>\n",
       "    <tr>\n",
       "      <th>3</th>\n",
       "      <td>NaN</td>\n",
       "      <td>NaN</td>\n",
       "      <td>NaN</td>\n",
       "      <td>NaN</td>\n",
       "    </tr>\n",
       "    <tr>\n",
       "      <th>4</th>\n",
       "      <td>NaN</td>\n",
       "      <td>NaN</td>\n",
       "      <td>NaN</td>\n",
       "      <td>NaN</td>\n",
       "    </tr>\n",
       "  </tbody>\n",
       "</table>\n",
       "</div>"
      ],
      "text/plain": [
       "                           Model Mean Squared Error (MSE) R² Score  \\\n",
       "1    New Random Forest Regressor                     0.76     0.61   \n",
       "2  New Gradient Boosting Machine                     0.69     0.65   \n",
       "3                            NaN                      NaN      NaN   \n",
       "4                            NaN                      NaN      NaN   \n",
       "\n",
       "  Mean Absolute Error (MAE)  \n",
       "1                      0.73  \n",
       "2                      0.67  \n",
       "3                       NaN  \n",
       "4                       NaN  "
      ]
     },
     "execution_count": 48,
     "metadata": {},
     "output_type": "execute_result"
    }
   ],
   "source": [
    "new_metrics_df.loc['2'] = pd.Series({'Model': 'New Gradient Boosting Machine', 'Mean Squared Error (MSE)': 0.69, 'R² Score': 0.65, \n",
    "                                 'Mean Absolute Error (MAE)': 0.67})\n",
    "new_metrics_df.head()"
   ]
  },
  {
   "cell_type": "code",
   "execution_count": 49,
   "metadata": {},
   "outputs": [
    {
     "name": "stdout",
     "output_type": "stream",
     "text": [
      "MSE: 0.737712790673093, R2 Score: 0.6291911057891935, MAE: 0.6865924657534246\n"
     ]
    }
   ],
   "source": [
    "# New K-Nearest Neighbors (KNN)\n",
    "\n",
    "from sklearn.neighbors import KNeighborsRegressor\n",
    "\n",
    "new_knn = KNeighborsRegressor(n_neighbors=5)\n",
    "new_knn.fit(new_X_train, new_y_train)\n",
    "\n",
    "new_y_pred_knn = new_knn.predict(new_X_test)\n",
    "\n",
    "mse = mean_squared_error(new_y_test, new_y_pred_knn)\n",
    "r2 = r2_score(new_y_test, new_y_pred_knn)\n",
    "mae = mean_absolute_error(new_y_test, new_y_pred_knn)\n",
    "\n",
    "print(f\"MSE: {mse}, R2 Score: {r2}, MAE: {mae}\")"
   ]
  },
  {
   "cell_type": "code",
   "execution_count": 50,
   "metadata": {},
   "outputs": [
    {
     "data": {
      "text/html": [
       "<div>\n",
       "<style scoped>\n",
       "    .dataframe tbody tr th:only-of-type {\n",
       "        vertical-align: middle;\n",
       "    }\n",
       "\n",
       "    .dataframe tbody tr th {\n",
       "        vertical-align: top;\n",
       "    }\n",
       "\n",
       "    .dataframe thead th {\n",
       "        text-align: right;\n",
       "    }\n",
       "</style>\n",
       "<table border=\"1\" class=\"dataframe\">\n",
       "  <thead>\n",
       "    <tr style=\"text-align: right;\">\n",
       "      <th></th>\n",
       "      <th>Model</th>\n",
       "      <th>Mean Squared Error (MSE)</th>\n",
       "      <th>R² Score</th>\n",
       "      <th>Mean Absolute Error (MAE)</th>\n",
       "    </tr>\n",
       "  </thead>\n",
       "  <tbody>\n",
       "    <tr>\n",
       "      <th>1</th>\n",
       "      <td>New Random Forest Regressor</td>\n",
       "      <td>0.76</td>\n",
       "      <td>0.61</td>\n",
       "      <td>0.73</td>\n",
       "    </tr>\n",
       "    <tr>\n",
       "      <th>2</th>\n",
       "      <td>New Gradient Boosting Machine</td>\n",
       "      <td>0.69</td>\n",
       "      <td>0.65</td>\n",
       "      <td>0.67</td>\n",
       "    </tr>\n",
       "    <tr>\n",
       "      <th>3</th>\n",
       "      <td>New K-Nearest Neighbors (KNN)</td>\n",
       "      <td>0.74</td>\n",
       "      <td>0.63</td>\n",
       "      <td>0.69</td>\n",
       "    </tr>\n",
       "    <tr>\n",
       "      <th>4</th>\n",
       "      <td>NaN</td>\n",
       "      <td>NaN</td>\n",
       "      <td>NaN</td>\n",
       "      <td>NaN</td>\n",
       "    </tr>\n",
       "  </tbody>\n",
       "</table>\n",
       "</div>"
      ],
      "text/plain": [
       "                           Model Mean Squared Error (MSE) R² Score  \\\n",
       "1    New Random Forest Regressor                     0.76     0.61   \n",
       "2  New Gradient Boosting Machine                     0.69     0.65   \n",
       "3  New K-Nearest Neighbors (KNN)                     0.74     0.63   \n",
       "4                            NaN                      NaN      NaN   \n",
       "\n",
       "  Mean Absolute Error (MAE)  \n",
       "1                      0.73  \n",
       "2                      0.67  \n",
       "3                      0.69  \n",
       "4                       NaN  "
      ]
     },
     "execution_count": 50,
     "metadata": {},
     "output_type": "execute_result"
    }
   ],
   "source": [
    "new_metrics_df.loc['3'] = pd.Series({'Model': 'New K-Nearest Neighbors (KNN)', 'Mean Squared Error (MSE)': 0.74, 'R² Score': 0.63, \n",
    "                                 'Mean Absolute Error (MAE)': 0.69})\n",
    "new_metrics_df.head()"
   ]
  },
  {
   "cell_type": "code",
   "execution_count": 51,
   "metadata": {},
   "outputs": [
    {
     "name": "stdout",
     "output_type": "stream",
     "text": [
      "MSE: 0.6789062159720958, R2 Score: 0.6587500360570366, MAE: 0.6877455836611934\n"
     ]
    }
   ],
   "source": [
    "# New Linear Regression\n",
    "\n",
    "from sklearn.linear_model import LinearRegression\n",
    "\n",
    "new_lin_reg = LinearRegression()\n",
    "new_lin_reg.fit(new_X_train, new_y_train)\n",
    "\n",
    "new_y_pred_lr = new_lin_reg.predict(new_X_test)\n",
    "\n",
    "mse = mean_squared_error(new_y_test, new_y_pred_lr)\n",
    "r2 = r2_score(new_y_test, new_y_pred_lr)\n",
    "mae = mean_absolute_error(new_y_test, new_y_pred_lr)\n",
    "\n",
    "print(f\"MSE: {mse}, R2 Score: {r2}, MAE: {mae}\")"
   ]
  },
  {
   "cell_type": "code",
   "execution_count": 52,
   "metadata": {},
   "outputs": [
    {
     "data": {
      "text/html": [
       "<div>\n",
       "<style scoped>\n",
       "    .dataframe tbody tr th:only-of-type {\n",
       "        vertical-align: middle;\n",
       "    }\n",
       "\n",
       "    .dataframe tbody tr th {\n",
       "        vertical-align: top;\n",
       "    }\n",
       "\n",
       "    .dataframe thead th {\n",
       "        text-align: right;\n",
       "    }\n",
       "</style>\n",
       "<table border=\"1\" class=\"dataframe\">\n",
       "  <thead>\n",
       "    <tr style=\"text-align: right;\">\n",
       "      <th></th>\n",
       "      <th>Model</th>\n",
       "      <th>Mean Squared Error (MSE)</th>\n",
       "      <th>R² Score</th>\n",
       "      <th>Mean Absolute Error (MAE)</th>\n",
       "    </tr>\n",
       "  </thead>\n",
       "  <tbody>\n",
       "    <tr>\n",
       "      <th>1</th>\n",
       "      <td>New Random Forest Regressor</td>\n",
       "      <td>0.76</td>\n",
       "      <td>0.61</td>\n",
       "      <td>0.73</td>\n",
       "    </tr>\n",
       "    <tr>\n",
       "      <th>2</th>\n",
       "      <td>New Gradient Boosting Machine</td>\n",
       "      <td>0.69</td>\n",
       "      <td>0.65</td>\n",
       "      <td>0.67</td>\n",
       "    </tr>\n",
       "    <tr>\n",
       "      <th>3</th>\n",
       "      <td>New K-Nearest Neighbors (KNN)</td>\n",
       "      <td>0.74</td>\n",
       "      <td>0.63</td>\n",
       "      <td>0.69</td>\n",
       "    </tr>\n",
       "    <tr>\n",
       "      <th>4</th>\n",
       "      <td>New Linear Regression</td>\n",
       "      <td>0.68</td>\n",
       "      <td>0.66</td>\n",
       "      <td>0.69</td>\n",
       "    </tr>\n",
       "  </tbody>\n",
       "</table>\n",
       "</div>"
      ],
      "text/plain": [
       "                           Model Mean Squared Error (MSE) R² Score  \\\n",
       "1    New Random Forest Regressor                     0.76     0.61   \n",
       "2  New Gradient Boosting Machine                     0.69     0.65   \n",
       "3  New K-Nearest Neighbors (KNN)                     0.74     0.63   \n",
       "4          New Linear Regression                     0.68     0.66   \n",
       "\n",
       "  Mean Absolute Error (MAE)  \n",
       "1                      0.73  \n",
       "2                      0.67  \n",
       "3                      0.69  \n",
       "4                      0.69  "
      ]
     },
     "execution_count": 52,
     "metadata": {},
     "output_type": "execute_result"
    }
   ],
   "source": [
    "new_metrics_df.loc['4'] = pd.Series({'Model': 'New Linear Regression', 'Mean Squared Error (MSE)': 0.68, 'R² Score': 0.66, \n",
    "                                 'Mean Absolute Error (MAE)': 0.69})\n",
    "new_metrics_df.head()"
   ]
  },
  {
   "cell_type": "markdown",
   "metadata": {},
   "source": [
    "### 2.5- Choosing my final model based on key metrics"
   ]
  },
  {
   "cell_type": "code",
   "execution_count": 53,
   "metadata": {},
   "outputs": [
    {
     "data": {
      "text/html": [
       "<div>\n",
       "<style scoped>\n",
       "    .dataframe tbody tr th:only-of-type {\n",
       "        vertical-align: middle;\n",
       "    }\n",
       "\n",
       "    .dataframe tbody tr th {\n",
       "        vertical-align: top;\n",
       "    }\n",
       "\n",
       "    .dataframe thead th {\n",
       "        text-align: right;\n",
       "    }\n",
       "</style>\n",
       "<table border=\"1\" class=\"dataframe\">\n",
       "  <thead>\n",
       "    <tr style=\"text-align: right;\">\n",
       "      <th></th>\n",
       "      <th>Model</th>\n",
       "      <th>Mean Squared Error (MSE)</th>\n",
       "      <th>R² Score</th>\n",
       "      <th>Mean Absolute Error (MAE)</th>\n",
       "    </tr>\n",
       "  </thead>\n",
       "  <tbody>\n",
       "    <tr>\n",
       "      <th>1</th>\n",
       "      <td>Random Forest Regressor</td>\n",
       "      <td>0.83</td>\n",
       "      <td>0.58</td>\n",
       "      <td>0.72</td>\n",
       "    </tr>\n",
       "    <tr>\n",
       "      <th>2</th>\n",
       "      <td>Gradient Boosting Machine</td>\n",
       "      <td>0.79</td>\n",
       "      <td>0.6</td>\n",
       "      <td>0.7</td>\n",
       "    </tr>\n",
       "    <tr>\n",
       "      <th>3</th>\n",
       "      <td>K-Nearest Neighbors (KNN)</td>\n",
       "      <td>0.85</td>\n",
       "      <td>0.57</td>\n",
       "      <td>0.75</td>\n",
       "    </tr>\n",
       "    <tr>\n",
       "      <th>4</th>\n",
       "      <td>Linear Regression</td>\n",
       "      <td>0.7</td>\n",
       "      <td>0.65</td>\n",
       "      <td>0.7</td>\n",
       "    </tr>\n",
       "  </tbody>\n",
       "</table>\n",
       "</div>"
      ],
      "text/plain": [
       "                       Model Mean Squared Error (MSE) R² Score  \\\n",
       "1    Random Forest Regressor                     0.83     0.58   \n",
       "2  Gradient Boosting Machine                     0.79      0.6   \n",
       "3  K-Nearest Neighbors (KNN)                     0.85     0.57   \n",
       "4          Linear Regression                      0.7     0.65   \n",
       "\n",
       "  Mean Absolute Error (MAE)  \n",
       "1                      0.72  \n",
       "2                       0.7  \n",
       "3                      0.75  \n",
       "4                       0.7  "
      ]
     },
     "execution_count": 53,
     "metadata": {},
     "output_type": "execute_result"
    }
   ],
   "source": [
    "metrics_df.head(4)"
   ]
  },
  {
   "cell_type": "code",
   "execution_count": 54,
   "metadata": {},
   "outputs": [
    {
     "data": {
      "text/html": [
       "<div>\n",
       "<style scoped>\n",
       "    .dataframe tbody tr th:only-of-type {\n",
       "        vertical-align: middle;\n",
       "    }\n",
       "\n",
       "    .dataframe tbody tr th {\n",
       "        vertical-align: top;\n",
       "    }\n",
       "\n",
       "    .dataframe thead th {\n",
       "        text-align: right;\n",
       "    }\n",
       "</style>\n",
       "<table border=\"1\" class=\"dataframe\">\n",
       "  <thead>\n",
       "    <tr style=\"text-align: right;\">\n",
       "      <th></th>\n",
       "      <th>Model</th>\n",
       "      <th>Mean Squared Error (MSE)</th>\n",
       "      <th>R² Score</th>\n",
       "      <th>Mean Absolute Error (MAE)</th>\n",
       "    </tr>\n",
       "  </thead>\n",
       "  <tbody>\n",
       "    <tr>\n",
       "      <th>1</th>\n",
       "      <td>New Random Forest Regressor</td>\n",
       "      <td>0.76</td>\n",
       "      <td>0.61</td>\n",
       "      <td>0.73</td>\n",
       "    </tr>\n",
       "    <tr>\n",
       "      <th>2</th>\n",
       "      <td>New Gradient Boosting Machine</td>\n",
       "      <td>0.69</td>\n",
       "      <td>0.65</td>\n",
       "      <td>0.67</td>\n",
       "    </tr>\n",
       "    <tr>\n",
       "      <th>3</th>\n",
       "      <td>New K-Nearest Neighbors (KNN)</td>\n",
       "      <td>0.74</td>\n",
       "      <td>0.63</td>\n",
       "      <td>0.69</td>\n",
       "    </tr>\n",
       "    <tr>\n",
       "      <th>4</th>\n",
       "      <td>New Linear Regression</td>\n",
       "      <td>0.68</td>\n",
       "      <td>0.66</td>\n",
       "      <td>0.69</td>\n",
       "    </tr>\n",
       "  </tbody>\n",
       "</table>\n",
       "</div>"
      ],
      "text/plain": [
       "                           Model Mean Squared Error (MSE) R² Score  \\\n",
       "1    New Random Forest Regressor                     0.76     0.61   \n",
       "2  New Gradient Boosting Machine                     0.69     0.65   \n",
       "3  New K-Nearest Neighbors (KNN)                     0.74     0.63   \n",
       "4          New Linear Regression                     0.68     0.66   \n",
       "\n",
       "  Mean Absolute Error (MAE)  \n",
       "1                      0.73  \n",
       "2                      0.67  \n",
       "3                      0.69  \n",
       "4                      0.69  "
      ]
     },
     "execution_count": 54,
     "metadata": {},
     "output_type": "execute_result"
    }
   ],
   "source": [
    "new_metrics_df.head(4)"
   ]
  },
  {
   "cell_type": "code",
   "execution_count": 55,
   "metadata": {},
   "outputs": [
    {
     "data": {
      "image/png": "[encoded data removed]",
      "text/plain": [
       "<Figure size 800x600 with 1 Axes>"
      ]
     },
     "metadata": {},
     "output_type": "display_data"
    }
   ],
   "source": [
    "data = {\n",
    "    'Model': ['New Random Forest Regressor', 'New Gradient Boosting Machine', 'New K-Nearest Neighbors (KNN)', 'New Linear Regression'],\n",
    "    'MSE': [0.76, 0.69, 0.74, 0.68],\n",
    "    'R2 Score': [0.61, 0.65, 0.63, 0.66],\n",
    "    'MAE': [0.73, 0.67, 0.69, 0.69]\n",
    "}\n",
    "\n",
    "df_vizu = pd.DataFrame(data)\n",
    "\n",
    "fig, ax = plt.subplots(figsize=(8, 6))\n",
    "\n",
    "df_vizu.plot(x='Model', y='MSE', kind='bar', ax=ax, color='skyblue', label='MSE', width=0.25, position=0.25)\n",
    "df_vizu.plot(x='Model', y='R2 Score', kind='bar', ax=ax, color='orange', label='R² Score', width=0.25, position=1)\n",
    "df_vizu.plot(x='Model', y='MAE', kind='bar', ax=ax, color='green', label='MAE', width=0.25, position=1.25)\n",
    "\n",
    "ax.set_xlabel('Model')\n",
    "ax.set_ylabel('Scores')\n",
    "ax.set_title('Performance of our new models')\n",
    "ax.legend(loc='best')\n",
    "\n",
    "plt.xticks(rotation=45, ha='right')\n",
    "plt.tight_layout()\n",
    "plt.show()"
   ]
  },
  {
   "cell_type": "markdown",
   "metadata": {},
   "source": [
    "As a reminder, we want an MSE close to 0, an R² close to 1 and a MAE close to 0.\n",
    "So yes, it was indeed a good decision to drop TempF feature as you can see: all the MSE (without exception) have decreased, all the R² score have increased and most of the MAE have decreased."
   ]
  },
  {
   "cell_type": "markdown",
   "metadata": {},
   "source": [
    "Based on the metrics, the New Linear Regression is the best model. It has:\n",
    "\n",
    "* The lowest MSE -> indicating minimal large errors\n",
    "* The highest R² Score -> showing it explains the most variance\n",
    "* A competitive MAE comparing to other models"
   ]
  },
  {
   "cell_type": "code",
   "execution_count": 56,
   "metadata": {},
   "outputs": [
    {
     "name": "stdout",
     "output_type": "stream",
     "text": [
      "0.7108926955285039\n"
     ]
    }
   ],
   "source": [
    "from sklearn.model_selection import cross_val_score\n",
    "\n",
    "scores = cross_val_score(new_lin_reg, new_X_train, new_y_train, scoring='neg_mean_squared_error', cv=5)\n",
    "mean_score = -scores.mean()\n",
    "print(mean_score)"
   ]
  },
  {
   "cell_type": "markdown",
   "metadata": {},
   "source": [
    "The mean score of 0.71 from cross-validation indicates the average negative MSE for our final model across 5 folds. \n",
    "\n",
    "This value suggests that (on average) the model's predictions are off by a MSE of approximately 0.71 which is relatively high. While not ideal, this score shows that the model's performance is reasonably stable and not overly prone to overfitting. "
   ]
  },
  {
   "cell_type": "code",
   "execution_count": 57,
   "metadata": {},
   "outputs": [
    {
     "data": {
      "image/png": "[encoded data removed]",
      "text/plain": [
       "<Figure size 1000x600 with 1 Axes>"
      ]
     },
     "metadata": {},
     "output_type": "display_data"
    }
   ],
   "source": [
    "plt.figure(figsize=(10, 6))\n",
    "plt.scatter(y_test, new_y_pred_lr, color='blue', label='Predicted vs Actual')\n",
    "\n",
    "plt.plot([min(new_y_test), max(new_y_test)], [min(new_y_test), max(new_y_test)], color='red', linestyle='--', linewidth=2, label='Perfect Prediction')\n",
    "\n",
    "plt.title('Actual vs Predicted Power(MW)')\n",
    "plt.xlabel('Actual Power(MW)')\n",
    "plt.ylabel('Predicted Power(MW)')\n",
    "plt.legend()\n",
    "plt.grid(True)\n",
    "plt.show()"
   ]
  },
  {
   "cell_type": "markdown",
   "metadata": {},
   "source": [
    "To sum up, our best model so far to predict our target variable (power output) is a machine learning linear regression model that used only 2 features (hours of sunlight and humidity)"
   ]
  },
  {
   "cell_type": "markdown",
   "metadata": {},
   "source": [
    "### 2.6 Next Steps!"
   ]
  },
  {
   "cell_type": "markdown",
   "metadata": {},
   "source": [
    "To improve our predictive model, we will need to consider tuning the model's hyperparameters!"
   ]
  }
 ],
 "metadata": {
  "kernelspec": {
   "display_name": "learn-env",
   "language": "python",
   "name": "python3"
  },
  "language_info": {
   "codemirror_mode": {
    "name": "ipython",
    "version": 3
   },
   "file_extension": ".py",
   "mimetype": "text/x-python",
   "name": "python",
   "nbconvert_exporter": "python",
   "pygments_lexer": "ipython3",
   "version": "3.12.4"
  }
 },
 "nbformat": 4,
 "nbformat_minor": 2
}
